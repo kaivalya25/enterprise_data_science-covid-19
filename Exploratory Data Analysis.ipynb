{
 "cells": [
  {
   "cell_type": "code",
   "execution_count": null,
   "metadata": {},
   "outputs": [],
   "source": [
    "import pandas as pd\n",
    "import numpy as np\n",
    "\n",
    "from datetime import datetime\n",
    "%matplotlib inline\n",
    "\n",
    "import matplotlib as mpl\n",
    "import matplotlib.pyplot as plt\n",
    "\n",
    "import seaborn as sns"
   ]
  },
  {
   "cell_type": "code",
   "execution_count": null,
   "metadata": {},
   "outputs": [],
   "source": [
    "mpl.rcParams['figure.figsize'] = (16, 9)\n",
    "pd.set_option('display.max_rows', 500)\n",
    "sns.set(style = \"darkgrid\")"
   ]
  },
  {
   "cell_type": "code",
   "execution_count": null,
   "metadata": {},
   "outputs": [],
   "source": [
    "df_plot = pd.read_csv('C:/Users/patka/enterprise_data_science-covid-19/data/processed/COVID_small_flat_table.csv', sep=';')\n",
    "df_plot.head()"
   ]
  },
  {
   "cell_type": "code",
   "execution_count": null,
   "metadata": {},
   "outputs": [],
   "source": [
    "plt.figure();\n",
    "ax = df_plot.iloc[5:,:].set_index('date').plot()\n",
    "plt.ylim(100, 3000000000)\n",
    "ax.set_yscale('log')"
   ]
  },
  {
   "cell_type": "markdown",
   "metadata": {},
   "source": [
    "## Dynamic Visualizations using Ploty"
   ]
  },
  {
   "cell_type": "code",
   "execution_count": null,
   "metadata": {},
   "outputs": [],
   "source": [
    "import plotly.graph_objects as go\n",
    "import plotly\n",
    "plotly.__version__"
   ]
  },
  {
   "cell_type": "code",
   "execution_count": null,
   "metadata": {},
   "outputs": [],
   "source": [
    "fig = go.Figure()"
   ]
  },
  {
   "cell_type": "code",
   "execution_count": null,
   "metadata": {},
   "outputs": [],
   "source": [
    "country_list = ['Italy','US','Spain','Germany','Korea, South']\n",
    "#Adding each country's trace using loop\n",
    "\n",
    "for each in country_list:\n",
    "    fig.add_trace(go.Scatter(x=df_plot.date,\n",
    "                             y = df_plot[each],\n",
    "                             mode = 'markers+lines',\n",
    "                             opacity = 0.9,\n",
    "                            line_width = 2,\n",
    "                            marker_size = 4,\n",
    "                            name = each))\n",
    "\n",
    "# Customizing Figure\n",
    "\n",
    "fig.update_layout(\n",
    "    width = 1600,\n",
    "    height = 1200,\n",
    "    xaxis_title = \"Time\",\n",
    "    yaxis_title = \"confirmed infected people (Joh hopkins data set, log-scale)\",\n",
    ")\n",
    "fig.update_yaxes(type = \"log\", range = [1.1,8.5])\n",
    "\n",
    "\n",
    "fig.update_layout(xaxis_rangeslider_visible = True)\n",
    "\n",
    "# To render in Chrome\n",
    "#fig.show(renderer='chrome')"
   ]
  },
  {
   "cell_type": "markdown",
   "metadata": {},
   "source": [
    "## Using Dashboard for choice of country"
   ]
  },
  {
   "cell_type": "code",
   "execution_count": null,
   "metadata": {},
   "outputs": [],
   "source": [
    "import dash\n",
    "from dash import dcc\n",
    "from dash import html\n",
    "\n",
    "app = dash.Dash()\n",
    "app.layout = html.Div([\n",
    "    \n",
    "    html.Label('Multi-Select Country'),\n",
    "    dcc.Dropdown(\n",
    "        id = 'country_drop_down',\n",
    "        options = [\n",
    "            {'label': 'Italy', 'value': 'Italy'},\n",
    "            {'label': 'US', 'value': 'US'},\n",
    "            {'label': 'Mexico', 'value': 'Mexico'},\n",
    "            {'label': 'Germany', 'value': 'Germany'},\n",
    "            {'label': 'Korea, South', 'value': 'Korea, South'}\n",
    "        ],\n",
    "        value = ['US', 'Germany'],\n",
    "        multi = True\n",
    "    ),\n",
    "    \n",
    "    dcc.Graph(figure=fig, id = 'main_window_slope')\n",
    "])"
   ]
  },
  {
   "cell_type": "code",
   "execution_count": null,
   "metadata": {},
   "outputs": [],
   "source": [
    "from dash.dependencies import Input, Output\n",
    "\n",
    "@app.callback(\n",
    "    Output('main_window_slope', 'figure'),\n",
    "    [Input('country_drop_down', 'value')])\n",
    "\n",
    "def update_figure(country_list):\n",
    "    \n",
    "    traces = []\n",
    "    for each in country_list:\n",
    "        traces.append(dict(x=df_plot.date,\n",
    "                          y= df_plot[each],\n",
    "                          mode = 'markers+lines',\n",
    "                          opacity= 0.9,\n",
    "                          line_width =2,\n",
    "                           marker_size = 4,\n",
    "                            name = each\n",
    "                          )\n",
    "                     )\n",
    "    return {\n",
    "        'data' : traces,\n",
    "        'layout': dict(\n",
    "            width = 1600,\n",
    "            height = 1200,\n",
    "            xaxis_title = \"Time\",\n",
    "            yaxis_title = \"confirmed infected people (Joh hopkins data set, log-scale)\",\n",
    "            xaxis = {'tickangle': -45,\n",
    "                    'nticks': 20,\n",
    "                    'tickfont': dict(size = 14, color = \"#7f7f7f\"),\n",
    "                    },\n",
    "            yaxis = {'type': \"log\",\n",
    "                    'range': '[1.1,5.5]'\n",
    "                    }\n",
    "        )\n",
    "    }"
   ]
  },
  {
   "cell_type": "code",
   "execution_count": null,
   "metadata": {},
   "outputs": [],
   "source": [
    "app.run_server(debug=True, use_reloader = False)"
   ]
  },
  {
   "cell_type": "code",
   "execution_count": null,
   "metadata": {},
   "outputs": [],
   "source": []
  }
 ],
 "metadata": {
  "kernelspec": {
   "display_name": "Python 3 (ipykernel)",
   "language": "python",
   "name": "python3"
  },
  "language_info": {
   "codemirror_mode": {
    "name": "ipython",
    "version": 3
   },
   "file_extension": ".py",
   "mimetype": "text/x-python",
   "name": "python",
   "nbconvert_exporter": "python",
   "pygments_lexer": "ipython3",
   "version": "3.10.4"
  }
 },
 "nbformat": 4,
 "nbformat_minor": 4
}
